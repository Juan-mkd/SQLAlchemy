{
 "cells": [
  {
   "cell_type": "markdown",
   "metadata": {},
   "source": [
    "ORM\n",
    "An ORM (Object-Relational Mapping) is a technique that allows developers to interact with relational databases using an object-oriented approach. It facilitates the mapping of programming classes to database tables, enabling CRUD operations without the need to write SQL queries manually. This enhances the readability and maintainability of the code while abstracting the specific details of the underlying database."
   ]
  },
  {
   "cell_type": "markdown",
   "metadata": {},
   "source": [
    "DECLARE MODELS\n",
    "-The mapping starts with a base class, which above is called Base, and is created by making a simple subclass against the DeclarativeBase class.\n",
    "-Individual mapped classes are then created by making subclasses of Base. A mapped class typically refers to a single particular database table, the name of which is indicated by using the __tablename__ class-level attribute.\n",
    "-In SQLAlchemy, table columns are defined using attributes with the Mapped annotation, where the attribute names correspond to database columns. The data types come from associated Python types (e.g., int for INTEGER, str for VARCHAR), and nullability is indicated by the Optional[] modifier. Specific types can be specified using SQLAlchemy type objects in the mapped_column() directive, and the mapping between Python and SQL types can be customized.\n",
    "-All ORM mapped classes require at least one column be declared as part of the primary key, typically by using the Column.primary_key parameter on those mapped_column() objects that should be part of the key. In the above example, the User.id and Address.id columns are marked as primary key.\n",
    "-Other variants of Mapped are available, most commonly the relationship() construct indicated above. In contrast to the column-based attributes, relationship() denotes a linkage between two ORM classes. In the above example, User.addresses links User to Address, and Address.user links Address to User. The relationship() construct is introduced in the SQLAlchemy Unified Tutorial at Working with ORM Related Objects.\n",
    "-"
   ]
  },
  {
   "cell_type": "code",
   "execution_count": null,
   "metadata": {},
   "outputs": [],
   "source": [
    "\"\"\"\n",
    "in this case is example, del caual no entendia para que se utiliza\n",
    "Taken together, the combination of a string table name as well as a list of column declarations is known in SQLAlchemy as table metadata. Setting up table metadata using both Core and ORM approaches is introduced in the SQLAlchemy Unified Tutorial at Working with Database Metadata. The above mapping is an example of what’s known as Annotated Declarative Table configuration.\n",
    "\n",
    "\"\"\"\n",
    "from sqlalchemy import Column, Integer, String\n",
    "from sqlalchemy.orm import declarative_base, Mapped\n",
    "\n",
    "Base = declarative_base()\n",
    "\n",
    "class User(Base):\n",
    "    __tablename__ = 'users'  # Nombre de la tabla en la base de datos\n",
    "\n",
    "    id: Mapped[int] = Column(Integer, primary_key=True)  # Columna de ID\n",
    "    name: Mapped[str] = Column(String, nullable=False)     # Columna de nombre\n",
    "    age: Mapped[Optional[int]] = Column(Integer, nullable=True)  # Columna de edad\n",
    "\n",
    "# Metadata de la tabla se configura automáticamente con el nombre y las columnas"
   ]
  }
 ],
 "metadata": {
  "kernelspec": {
   "display_name": "venv",
   "language": "python",
   "name": "python3"
  },
  "language_info": {
   "name": "python",
   "version": "3.13.0"
  }
 },
 "nbformat": 4,
 "nbformat_minor": 2
}
